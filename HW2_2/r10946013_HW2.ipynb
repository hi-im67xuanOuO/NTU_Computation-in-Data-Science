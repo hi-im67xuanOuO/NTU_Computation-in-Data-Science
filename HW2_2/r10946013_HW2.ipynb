{
 "cells": [
  {
   "cell_type": "code",
   "execution_count": 1,
   "metadata": {},
   "outputs": [],
   "source": [
    "import numpy as np\n",
    "from scipy.stats import pearsonr\n",
    "import pandas as pd\n",
    "import matplotlib.pyplot as plt"
   ]
  },
  {
   "cell_type": "markdown",
   "metadata": {},
   "source": [
    "# 讀取資料表"
   ]
  },
  {
   "cell_type": "code",
   "execution_count": 2,
   "metadata": {},
   "outputs": [],
   "source": [
    "df = pd.read_csv(\"GDSC_PDX_Paclitaxel.csv\")#,index_col=0)\n",
    "df = df.rename(columns={'Unnamed: 0':'CELL_LINE_NAME'}) # 把cell_line_name欄位名稱統一（方便做合併）\n",
    "df_info = pd.read_csv(\"GDSC_PDX_Paclitaxel_info.csv\",index_col=0)\n",
    "df_test = pd.read_csv(\"CCLE_PDX_Paclitaxel.csv\")#,index_col=0)\n",
    "df_test = df_test.rename(columns={'CCLE.Cell.Line.Name':'CELL_LINE_NAME'})"
   ]
  },
  {
   "cell_type": "markdown",
   "metadata": {},
   "source": [
    "# 取欄位交集（兩個資料表都有的欄位）"
   ]
  },
  {
   "cell_type": "code",
   "execution_count": 3,
   "metadata": {},
   "outputs": [],
   "source": [
    "train_features = set(df.columns)\n",
    "test_features = set(df_test.columns)\n",
    "# 把非交集的欄位從資料表中去除（減去差集）\n",
    "df_train = df.drop(train_features.difference(test_features),axis=1)\n",
    "df_test = df_test.drop(test_features.difference(train_features),axis=1)"
   ]
  },
  {
   "cell_type": "markdown",
   "metadata": {},
   "source": [
    "# 用IC50與MAX_CONC_MICROMOLAR欄位計算S或R 並將結果併入訓練資料表中"
   ]
  },
  {
   "cell_type": "code",
   "execution_count": 4,
   "metadata": {},
   "outputs": [
    {
     "name": "stdout",
     "output_type": "stream",
     "text": [
      "(399, 15175)\n"
     ]
    }
   ],
   "source": [
    "ans = []\n",
    "for i in range(len(df_info[\"IC50\"])):\n",
    "    if list(df_info[\"IC50\"])[i] < list(df_info[\"MAX_CONC_MICROMOLAR\"])[i]:\n",
    "        ans.append(0) # S\n",
    "    else:\n",
    "        ans.append(1) # R\n",
    "df_info['ans'] = ans\n",
    "df_bind = df_info[['CELL_LINE_NAME','ans']] ##  合併用的\n",
    "df_train = pd.merge(df_train,df_bind) ## 訓練用的\n",
    "print(df_train.shape) # 處理過後有的行列數量"
   ]
  },
  {
   "cell_type": "markdown",
   "metadata": {},
   "source": [
    "# 資料標準化"
   ]
  },
  {
   "cell_type": "code",
   "execution_count": 5,
   "metadata": {},
   "outputs": [],
   "source": [
    "X = df_train.drop(\"ans\",1) #Feature Matrix \n",
    "y = df_train[\"ans\"] #目標變量\n",
    "df_train = df_train.drop(['CELL_LINE_NAME'], axis=1)\n",
    "\n",
    "df_ = df_train.drop(\"ans\",axis=1)\n",
    "\n",
    "normalized_df=(df_ - df_.mean())/df_.std()\n",
    "normalized_df['ans'] = y # 把標準化前刪掉的ans欄位併回來"
   ]
  },
  {
   "cell_type": "markdown",
   "metadata": {},
   "source": [
    "# 計算各欄位與欲預測欄位的correlation（pearson方法）"
   ]
  },
  {
   "cell_type": "code",
   "execution_count": 6,
   "metadata": {},
   "outputs": [
    {
     "data": {
      "text/html": [
       "<div>\n",
       "<style scoped>\n",
       "    .dataframe tbody tr th:only-of-type {\n",
       "        vertical-align: middle;\n",
       "    }\n",
       "\n",
       "    .dataframe tbody tr th {\n",
       "        vertical-align: top;\n",
       "    }\n",
       "\n",
       "    .dataframe thead th {\n",
       "        text-align: right;\n",
       "    }\n",
       "</style>\n",
       "<table border=\"1\" class=\"dataframe\">\n",
       "  <thead>\n",
       "    <tr style=\"text-align: right;\">\n",
       "      <th></th>\n",
       "      <th>TSPAN6</th>\n",
       "      <th>TNMD</th>\n",
       "      <th>DPM1</th>\n",
       "      <th>SCYL3</th>\n",
       "      <th>C1orf112</th>\n",
       "      <th>FGR</th>\n",
       "      <th>CFH</th>\n",
       "      <th>FUCA2</th>\n",
       "      <th>GCLC</th>\n",
       "      <th>NFYA</th>\n",
       "      <th>...</th>\n",
       "      <th>OR4N3P</th>\n",
       "      <th>MRPL46</th>\n",
       "      <th>HPR</th>\n",
       "      <th>MIA</th>\n",
       "      <th>LINC00514</th>\n",
       "      <th>OR1D5</th>\n",
       "      <th>MYH4</th>\n",
       "      <th>KRT18P55</th>\n",
       "      <th>TBC1D3P5</th>\n",
       "      <th>ans</th>\n",
       "    </tr>\n",
       "  </thead>\n",
       "  <tbody>\n",
       "    <tr>\n",
       "      <td>TSPAN6</td>\n",
       "      <td>1.000000</td>\n",
       "      <td>0.046208</td>\n",
       "      <td>0.053007</td>\n",
       "      <td>-0.365482</td>\n",
       "      <td>-0.233656</td>\n",
       "      <td>-0.465248</td>\n",
       "      <td>0.149307</td>\n",
       "      <td>0.227825</td>\n",
       "      <td>0.120466</td>\n",
       "      <td>-0.223184</td>\n",
       "      <td>...</td>\n",
       "      <td>-0.215747</td>\n",
       "      <td>-0.130318</td>\n",
       "      <td>-0.157830</td>\n",
       "      <td>0.088224</td>\n",
       "      <td>0.129337</td>\n",
       "      <td>-0.256798</td>\n",
       "      <td>0.067981</td>\n",
       "      <td>0.009864</td>\n",
       "      <td>-0.170854</td>\n",
       "      <td>0.068623</td>\n",
       "    </tr>\n",
       "    <tr>\n",
       "      <td>TNMD</td>\n",
       "      <td>0.046208</td>\n",
       "      <td>1.000000</td>\n",
       "      <td>0.040708</td>\n",
       "      <td>0.070092</td>\n",
       "      <td>0.079292</td>\n",
       "      <td>0.044540</td>\n",
       "      <td>-0.108413</td>\n",
       "      <td>-0.103665</td>\n",
       "      <td>-0.030382</td>\n",
       "      <td>0.034691</td>\n",
       "      <td>...</td>\n",
       "      <td>0.058246</td>\n",
       "      <td>0.043290</td>\n",
       "      <td>-0.003097</td>\n",
       "      <td>-0.090955</td>\n",
       "      <td>-0.016635</td>\n",
       "      <td>-0.019272</td>\n",
       "      <td>0.080862</td>\n",
       "      <td>0.063532</td>\n",
       "      <td>0.058706</td>\n",
       "      <td>-0.007491</td>\n",
       "    </tr>\n",
       "    <tr>\n",
       "      <td>DPM1</td>\n",
       "      <td>0.053007</td>\n",
       "      <td>0.040708</td>\n",
       "      <td>1.000000</td>\n",
       "      <td>-0.050125</td>\n",
       "      <td>-0.099479</td>\n",
       "      <td>0.032664</td>\n",
       "      <td>0.047902</td>\n",
       "      <td>0.070631</td>\n",
       "      <td>0.015885</td>\n",
       "      <td>-0.120462</td>\n",
       "      <td>...</td>\n",
       "      <td>-0.034802</td>\n",
       "      <td>0.075925</td>\n",
       "      <td>0.016166</td>\n",
       "      <td>0.074368</td>\n",
       "      <td>0.042569</td>\n",
       "      <td>0.058854</td>\n",
       "      <td>0.023932</td>\n",
       "      <td>0.083644</td>\n",
       "      <td>-0.086360</td>\n",
       "      <td>-0.033391</td>\n",
       "    </tr>\n",
       "    <tr>\n",
       "      <td>SCYL3</td>\n",
       "      <td>-0.365482</td>\n",
       "      <td>0.070092</td>\n",
       "      <td>-0.050125</td>\n",
       "      <td>1.000000</td>\n",
       "      <td>0.207594</td>\n",
       "      <td>0.364232</td>\n",
       "      <td>-0.095711</td>\n",
       "      <td>-0.160789</td>\n",
       "      <td>0.029839</td>\n",
       "      <td>0.241952</td>\n",
       "      <td>...</td>\n",
       "      <td>0.099734</td>\n",
       "      <td>0.203343</td>\n",
       "      <td>0.098325</td>\n",
       "      <td>-0.039769</td>\n",
       "      <td>0.156156</td>\n",
       "      <td>0.092487</td>\n",
       "      <td>0.061193</td>\n",
       "      <td>0.088698</td>\n",
       "      <td>0.103085</td>\n",
       "      <td>-0.053902</td>\n",
       "    </tr>\n",
       "    <tr>\n",
       "      <td>C1orf112</td>\n",
       "      <td>-0.233656</td>\n",
       "      <td>0.079292</td>\n",
       "      <td>-0.099479</td>\n",
       "      <td>0.207594</td>\n",
       "      <td>1.000000</td>\n",
       "      <td>0.039565</td>\n",
       "      <td>-0.144687</td>\n",
       "      <td>-0.298227</td>\n",
       "      <td>-0.034905</td>\n",
       "      <td>0.351181</td>\n",
       "      <td>...</td>\n",
       "      <td>0.045729</td>\n",
       "      <td>0.169987</td>\n",
       "      <td>0.014999</td>\n",
       "      <td>-0.092431</td>\n",
       "      <td>0.003133</td>\n",
       "      <td>0.089290</td>\n",
       "      <td>-0.068675</td>\n",
       "      <td>0.058666</td>\n",
       "      <td>0.145893</td>\n",
       "      <td>-0.119629</td>\n",
       "    </tr>\n",
       "    <tr>\n",
       "      <td>...</td>\n",
       "      <td>...</td>\n",
       "      <td>...</td>\n",
       "      <td>...</td>\n",
       "      <td>...</td>\n",
       "      <td>...</td>\n",
       "      <td>...</td>\n",
       "      <td>...</td>\n",
       "      <td>...</td>\n",
       "      <td>...</td>\n",
       "      <td>...</td>\n",
       "      <td>...</td>\n",
       "      <td>...</td>\n",
       "      <td>...</td>\n",
       "      <td>...</td>\n",
       "      <td>...</td>\n",
       "      <td>...</td>\n",
       "      <td>...</td>\n",
       "      <td>...</td>\n",
       "      <td>...</td>\n",
       "      <td>...</td>\n",
       "      <td>...</td>\n",
       "    </tr>\n",
       "    <tr>\n",
       "      <td>OR1D5</td>\n",
       "      <td>-0.256798</td>\n",
       "      <td>-0.019272</td>\n",
       "      <td>0.058854</td>\n",
       "      <td>0.092487</td>\n",
       "      <td>0.089290</td>\n",
       "      <td>0.177333</td>\n",
       "      <td>0.004501</td>\n",
       "      <td>-0.066179</td>\n",
       "      <td>-0.017884</td>\n",
       "      <td>0.077607</td>\n",
       "      <td>...</td>\n",
       "      <td>0.084624</td>\n",
       "      <td>0.124597</td>\n",
       "      <td>0.104716</td>\n",
       "      <td>0.006587</td>\n",
       "      <td>-0.015919</td>\n",
       "      <td>1.000000</td>\n",
       "      <td>-0.046605</td>\n",
       "      <td>0.079913</td>\n",
       "      <td>0.105413</td>\n",
       "      <td>-0.036426</td>\n",
       "    </tr>\n",
       "    <tr>\n",
       "      <td>MYH4</td>\n",
       "      <td>0.067981</td>\n",
       "      <td>0.080862</td>\n",
       "      <td>0.023932</td>\n",
       "      <td>0.061193</td>\n",
       "      <td>-0.068675</td>\n",
       "      <td>0.006781</td>\n",
       "      <td>-0.036972</td>\n",
       "      <td>0.095648</td>\n",
       "      <td>0.118941</td>\n",
       "      <td>-0.021334</td>\n",
       "      <td>...</td>\n",
       "      <td>0.019490</td>\n",
       "      <td>0.019301</td>\n",
       "      <td>0.015910</td>\n",
       "      <td>-0.049824</td>\n",
       "      <td>0.004229</td>\n",
       "      <td>-0.046605</td>\n",
       "      <td>1.000000</td>\n",
       "      <td>0.038360</td>\n",
       "      <td>-0.048615</td>\n",
       "      <td>0.041263</td>\n",
       "    </tr>\n",
       "    <tr>\n",
       "      <td>KRT18P55</td>\n",
       "      <td>0.009864</td>\n",
       "      <td>0.063532</td>\n",
       "      <td>0.083644</td>\n",
       "      <td>0.088698</td>\n",
       "      <td>0.058666</td>\n",
       "      <td>0.072268</td>\n",
       "      <td>-0.058323</td>\n",
       "      <td>0.018816</td>\n",
       "      <td>0.119819</td>\n",
       "      <td>-0.109738</td>\n",
       "      <td>...</td>\n",
       "      <td>-0.010065</td>\n",
       "      <td>0.107776</td>\n",
       "      <td>0.102372</td>\n",
       "      <td>-0.064870</td>\n",
       "      <td>0.039255</td>\n",
       "      <td>0.079913</td>\n",
       "      <td>0.038360</td>\n",
       "      <td>1.000000</td>\n",
       "      <td>0.166550</td>\n",
       "      <td>0.008065</td>\n",
       "    </tr>\n",
       "    <tr>\n",
       "      <td>TBC1D3P5</td>\n",
       "      <td>-0.170854</td>\n",
       "      <td>0.058706</td>\n",
       "      <td>-0.086360</td>\n",
       "      <td>0.103085</td>\n",
       "      <td>0.145893</td>\n",
       "      <td>0.076177</td>\n",
       "      <td>-0.114808</td>\n",
       "      <td>-0.111958</td>\n",
       "      <td>-0.070690</td>\n",
       "      <td>0.042536</td>\n",
       "      <td>...</td>\n",
       "      <td>0.056023</td>\n",
       "      <td>0.088320</td>\n",
       "      <td>0.245291</td>\n",
       "      <td>0.063065</td>\n",
       "      <td>0.033053</td>\n",
       "      <td>0.105413</td>\n",
       "      <td>-0.048615</td>\n",
       "      <td>0.166550</td>\n",
       "      <td>1.000000</td>\n",
       "      <td>0.020543</td>\n",
       "    </tr>\n",
       "    <tr>\n",
       "      <td>ans</td>\n",
       "      <td>0.068623</td>\n",
       "      <td>-0.007491</td>\n",
       "      <td>-0.033391</td>\n",
       "      <td>-0.053902</td>\n",
       "      <td>-0.119629</td>\n",
       "      <td>0.006937</td>\n",
       "      <td>-0.056578</td>\n",
       "      <td>-0.028594</td>\n",
       "      <td>0.020921</td>\n",
       "      <td>-0.060083</td>\n",
       "      <td>...</td>\n",
       "      <td>0.003051</td>\n",
       "      <td>0.058840</td>\n",
       "      <td>0.092833</td>\n",
       "      <td>0.014478</td>\n",
       "      <td>-0.031810</td>\n",
       "      <td>-0.036426</td>\n",
       "      <td>0.041263</td>\n",
       "      <td>0.008065</td>\n",
       "      <td>0.020543</td>\n",
       "      <td>1.000000</td>\n",
       "    </tr>\n",
       "  </tbody>\n",
       "</table>\n",
       "<p>15174 rows × 15174 columns</p>\n",
       "</div>"
      ],
      "text/plain": [
       "            TSPAN6      TNMD      DPM1     SCYL3  C1orf112       FGR  \\\n",
       "TSPAN6    1.000000  0.046208  0.053007 -0.365482 -0.233656 -0.465248   \n",
       "TNMD      0.046208  1.000000  0.040708  0.070092  0.079292  0.044540   \n",
       "DPM1      0.053007  0.040708  1.000000 -0.050125 -0.099479  0.032664   \n",
       "SCYL3    -0.365482  0.070092 -0.050125  1.000000  0.207594  0.364232   \n",
       "C1orf112 -0.233656  0.079292 -0.099479  0.207594  1.000000  0.039565   \n",
       "...            ...       ...       ...       ...       ...       ...   \n",
       "OR1D5    -0.256798 -0.019272  0.058854  0.092487  0.089290  0.177333   \n",
       "MYH4      0.067981  0.080862  0.023932  0.061193 -0.068675  0.006781   \n",
       "KRT18P55  0.009864  0.063532  0.083644  0.088698  0.058666  0.072268   \n",
       "TBC1D3P5 -0.170854  0.058706 -0.086360  0.103085  0.145893  0.076177   \n",
       "ans       0.068623 -0.007491 -0.033391 -0.053902 -0.119629  0.006937   \n",
       "\n",
       "               CFH     FUCA2      GCLC      NFYA  ...    OR4N3P    MRPL46  \\\n",
       "TSPAN6    0.149307  0.227825  0.120466 -0.223184  ... -0.215747 -0.130318   \n",
       "TNMD     -0.108413 -0.103665 -0.030382  0.034691  ...  0.058246  0.043290   \n",
       "DPM1      0.047902  0.070631  0.015885 -0.120462  ... -0.034802  0.075925   \n",
       "SCYL3    -0.095711 -0.160789  0.029839  0.241952  ...  0.099734  0.203343   \n",
       "C1orf112 -0.144687 -0.298227 -0.034905  0.351181  ...  0.045729  0.169987   \n",
       "...            ...       ...       ...       ...  ...       ...       ...   \n",
       "OR1D5     0.004501 -0.066179 -0.017884  0.077607  ...  0.084624  0.124597   \n",
       "MYH4     -0.036972  0.095648  0.118941 -0.021334  ...  0.019490  0.019301   \n",
       "KRT18P55 -0.058323  0.018816  0.119819 -0.109738  ... -0.010065  0.107776   \n",
       "TBC1D3P5 -0.114808 -0.111958 -0.070690  0.042536  ...  0.056023  0.088320   \n",
       "ans      -0.056578 -0.028594  0.020921 -0.060083  ...  0.003051  0.058840   \n",
       "\n",
       "               HPR       MIA  LINC00514     OR1D5      MYH4  KRT18P55  \\\n",
       "TSPAN6   -0.157830  0.088224   0.129337 -0.256798  0.067981  0.009864   \n",
       "TNMD     -0.003097 -0.090955  -0.016635 -0.019272  0.080862  0.063532   \n",
       "DPM1      0.016166  0.074368   0.042569  0.058854  0.023932  0.083644   \n",
       "SCYL3     0.098325 -0.039769   0.156156  0.092487  0.061193  0.088698   \n",
       "C1orf112  0.014999 -0.092431   0.003133  0.089290 -0.068675  0.058666   \n",
       "...            ...       ...        ...       ...       ...       ...   \n",
       "OR1D5     0.104716  0.006587  -0.015919  1.000000 -0.046605  0.079913   \n",
       "MYH4      0.015910 -0.049824   0.004229 -0.046605  1.000000  0.038360   \n",
       "KRT18P55  0.102372 -0.064870   0.039255  0.079913  0.038360  1.000000   \n",
       "TBC1D3P5  0.245291  0.063065   0.033053  0.105413 -0.048615  0.166550   \n",
       "ans       0.092833  0.014478  -0.031810 -0.036426  0.041263  0.008065   \n",
       "\n",
       "          TBC1D3P5       ans  \n",
       "TSPAN6   -0.170854  0.068623  \n",
       "TNMD      0.058706 -0.007491  \n",
       "DPM1     -0.086360 -0.033391  \n",
       "SCYL3     0.103085 -0.053902  \n",
       "C1orf112  0.145893 -0.119629  \n",
       "...            ...       ...  \n",
       "OR1D5     0.105413 -0.036426  \n",
       "MYH4     -0.048615  0.041263  \n",
       "KRT18P55  0.166550  0.008065  \n",
       "TBC1D3P5  1.000000  0.020543  \n",
       "ans       0.020543  1.000000  \n",
       "\n",
       "[15174 rows x 15174 columns]"
      ]
     },
     "execution_count": 6,
     "metadata": {},
     "output_type": "execute_result"
    }
   ],
   "source": [
    "df_train = normalized_df\n",
    "cor_df = df_train.corr(method ='pearson') # 使用皮爾森方法\n",
    "cor_df"
   ]
  },
  {
   "cell_type": "markdown",
   "metadata": {},
   "source": [
    "# 設定一個correlarion閥值來選取要用來訓練的feature(取絕對值後大於閥值)"
   ]
  },
  {
   "cell_type": "code",
   "execution_count": 19,
   "metadata": {},
   "outputs": [
    {
     "name": "stdout",
     "output_type": "stream",
     "text": [
      "用來訓練模型的feature數量： 108\n"
     ]
    }
   ],
   "source": [
    "#Correlation with output variable \n",
    "cor_target = abs(cor_df[\"ans\"])\n",
    "\n",
    "#Selecting highly correlated features\n",
    "relevant_features = cor_target[cor_target>0.17] #0.17 #設定閥值\n",
    "print(\"用來訓練模型的feature數量：\",len(relevant_features))"
   ]
  },
  {
   "cell_type": "markdown",
   "metadata": {},
   "source": [
    "# 將feature選定後整理為建模用資料"
   ]
  },
  {
   "cell_type": "code",
   "execution_count": 20,
   "metadata": {},
   "outputs": [],
   "source": [
    "df_train_new = df_train[list(relevant_features.index)]\n",
    "X = df_train_new.drop(\"ans\",1) #Feature Matrix \n",
    "y = df_train_new[\"ans\"] #目標變量"
   ]
  },
  {
   "cell_type": "markdown",
   "metadata": {},
   "source": [
    "# 調整參數與建模"
   ]
  },
  {
   "cell_type": "code",
   "execution_count": 25,
   "metadata": {},
   "outputs": [
    {
     "name": "stdout",
     "output_type": "stream",
     "text": [
      "[0.7125     0.7125     0.725      0.8        0.72151899]\n",
      "[0.75      0.7625    0.8       0.75      0.7721519]\n",
      "[0.725      0.775      0.775      0.8125     0.75949367]\n",
      "[0.7        0.725      0.825      0.7875     0.79746835]\n",
      "[0.7375     0.7625     0.8125     0.7625     0.81012658]\n",
      "[0.725      0.75       0.825      0.7625     0.75949367]\n",
      "[0.725      0.775      0.8        0.8        0.78481013]\n",
      "[0.7625     0.725      0.8125     0.8        0.79746835]\n",
      "[0.7375     0.75       0.8        0.775      0.81012658]\n",
      "[0.7625     0.7625     0.825      0.775      0.79746835]\n",
      "[0.7375     0.7375     0.8        0.7875     0.79746835]\n",
      "[0.725      0.7625     0.825      0.7625     0.78481013]\n",
      "[0.7375     0.75       0.8125     0.8        0.81012658]\n",
      "[0.7625     0.7625     0.8125     0.8        0.81012658]\n",
      "score:  [0.7343037974683544, 0.7669303797468354, 0.7693987341772152, 0.7669936708860761, 0.7770253164556962, 0.7643987341772152, 0.7769620253164555, 0.7794936708860758, 0.7745253164556962, 0.7844936708860759, 0.7719936708860761, 0.7719620253164556, 0.7820253164556961, 0.7895253164556962]\n",
      "max score:  0.7895253164556962\n"
     ]
    }
   ],
   "source": [
    "from sklearn import ensemble, preprocessing, metrics\n",
    "from sklearn.model_selection import train_test_split\n",
    "from sklearn.model_selection import cross_val_score\n",
    "\n",
    "\n",
    "# 建立訓練與測試資料\n",
    "train_X, test_X, train_y, test_y = train_test_split(X, y, test_size = 0.3)\n",
    "\n",
    "score = []\n",
    "time = []\n",
    "# 建立 random forest 模型\n",
    "for i in range(10,290,20):\n",
    "    time.append(i)\n",
    "    forest = ensemble.RandomForestClassifier(n_estimators = i)\n",
    "    forest_fit = forest.fit(train_X, train_y)\n",
    "    # 預測\n",
    "    test_y_predicted = forest.predict(test_X)\n",
    "    # 績效\n",
    "    scores = cross_val_score(forest,X,y,cv=5,scoring='accuracy')\n",
    "    print(scores)\n",
    "    sum = 0\n",
    "    for j in scores:\n",
    "        sum += j\n",
    "    score.append(sum/5)\n",
    "\n",
    "print(\"score: \",score)\n",
    "print(\"max score: \",max(score))"
   ]
  },
  {
   "cell_type": "code",
   "execution_count": 26,
   "metadata": {},
   "outputs": [
    {
     "data": {
      "image/png": "[encoded data removed]",
      "text/plain": [
       "<Figure size 432x288 with 1 Axes>"
      ]
     },
     "metadata": {
      "needs_background": "light"
     },
     "output_type": "display_data"
    }
   ],
   "source": [
    "plt.plot(time,score)\n",
    "plt.xlabel('Value')\n",
    "plt.ylabel('Cross-Validated Accuracy')\n",
    "plt.show()"
   ]
  },
  {
   "cell_type": "code",
   "execution_count": 27,
   "metadata": {},
   "outputs": [
    {
     "name": "stdout",
     "output_type": "stream",
     "text": [
      "[0.675      0.775      0.7875     0.725      0.81012658]\n",
      "[0.6375     0.775      0.8        0.7375     0.75949367]\n",
      "[0.65       0.775      0.7875     0.75       0.75949367]\n",
      "[0.6625    0.8       0.8       0.7625    0.7721519]\n",
      "[0.675     0.7875    0.8       0.75      0.7721519]\n",
      "[0.675     0.7875    0.825     0.75      0.7721519]\n",
      "[0.6875     0.7875     0.825      0.7375     0.78481013]\n",
      "[0.7        0.8        0.8125     0.7375     0.79746835]\n",
      "[0.725      0.7875     0.8125     0.7375     0.78481013]\n",
      "[0.725      0.7875     0.8        0.7375     0.78481013]\n",
      "[0.725      0.7875     0.775      0.7375     0.78481013]\n",
      "[0.725      0.7875     0.775      0.7375     0.78481013]\n",
      "[0.7125     0.7875     0.775      0.75       0.79746835]\n",
      "[0.725      0.7875     0.775      0.75       0.78481013]\n",
      "score:  [0.7545253164556962, 0.7418987341772152, 0.7443987341772151, 0.7594303797468356, 0.7569303797468355, 0.7619303797468354, 0.7644620253164556, 0.7694936708860759, 0.7694620253164557, 0.7669620253164556, 0.7619620253164557, 0.7619620253164557, 0.764493670886076, 0.7644620253164558]\n",
      "max score:  0.7694936708860759\n"
     ]
    }
   ],
   "source": [
    "import xgboost as xgb\n",
    "# xgb.XGBClassifier(n_estimators = i)\n",
    "\n",
    "# 建立訓練與測試資料\n",
    "train_X, test_X, train_y, test_y = train_test_split(X, y, test_size = 0.3)\n",
    "\n",
    "score = []\n",
    "# 建立 XGBClassifier 模型\n",
    "for i in range(10,290,20):\n",
    "    XGB = xgb.XGBClassifier(n_estimators = i)\n",
    "    forest_fit = XGB.fit(train_X, train_y)\n",
    "    # 預測\n",
    "    test_y_predicted = XGB.predict(test_X)\n",
    "    # 績效\n",
    "    scores = cross_val_score(XGB,X,y,cv=5,scoring='accuracy')\n",
    "    print(scores)\n",
    "    sum = 0\n",
    "    for j in scores:\n",
    "        sum += j\n",
    "    score.append(sum/5)\n",
    "\n",
    "print(\"score: \",score)\n",
    "print(\"max score: \",max(score))"
   ]
  },
  {
   "cell_type": "code",
   "execution_count": 28,
   "metadata": {},
   "outputs": [
    {
     "data": {
      "image/png": "[encoded data removed]",
      "text/plain": [
       "<Figure size 432x288 with 1 Axes>"
      ]
     },
     "metadata": {
      "needs_background": "light"
     },
     "output_type": "display_data"
    }
   ],
   "source": [
    "plt.plot(time,score)\n",
    "plt.xlabel('Value')\n",
    "plt.ylabel('Cross-Validated Accuracy')\n",
    "plt.show()"
   ]
  },
  {
   "cell_type": "code",
   "execution_count": 29,
   "metadata": {},
   "outputs": [
    {
     "name": "stdout",
     "output_type": "stream",
     "text": [
      "[0.7125     0.725      0.725      0.75       0.75949367]\n",
      "[0.725      0.725      0.7125     0.7125     0.70886076]\n",
      "[0.7        0.7125     0.7125     0.7125     0.70886076]\n",
      "[0.7125     0.7125     0.7125     0.7125     0.70886076]\n",
      "[0.7125     0.7125     0.7125     0.7125     0.70886076]\n",
      "[0.7125     0.7125     0.7125     0.7125     0.70886076]\n",
      "[0.7125     0.7125     0.7125     0.7125     0.70886076]\n",
      "[0.7125     0.7125     0.7125     0.7125     0.70886076]\n",
      "[0.7125     0.7125     0.7125     0.7125     0.70886076]\n",
      "[0.7125     0.7125     0.7125     0.7125     0.70886076]\n",
      "[0.7125     0.7125     0.7125     0.7125     0.70886076]\n",
      "[0.7125     0.7125     0.7125     0.7125     0.70886076]\n",
      "[0.7125     0.7125     0.7125     0.7125     0.70886076]\n",
      "[0.7125     0.7125     0.7125     0.7125     0.70886076]\n",
      "score:  [0.7343987341772152, 0.7167721518987342, 0.7092721518987342, 0.7117721518987341, 0.7117721518987341, 0.7117721518987341, 0.7117721518987341, 0.7117721518987341, 0.7117721518987341, 0.7117721518987341, 0.7117721518987341, 0.7117721518987341, 0.7117721518987341, 0.7117721518987341]\n",
      "max score:  0.7343987341772152\n"
     ]
    }
   ],
   "source": [
    "from sklearn.neighbors import KNeighborsClassifier\n",
    "# KNeighborsClassifier(n_neighbors = i)\n",
    "\n",
    "# 建立訓練與測試資料\n",
    "train_X, test_X, train_y, test_y = train_test_split(X, y, test_size = 0.3)\n",
    "\n",
    "score = []\n",
    "# 建立 KNeighbors 模型\n",
    "for i in range(10,290,20):\n",
    "    KNeighbors = KNeighborsClassifier(n_neighbors = i)\n",
    "    forest_fit = KNeighbors.fit(train_X, train_y)\n",
    "    # 預測\n",
    "    test_y_predicted = KNeighbors.predict(test_X)\n",
    "    # 績效\n",
    "    scores = cross_val_score(KNeighbors,X,y,cv=5,scoring='accuracy')\n",
    "    print(scores)\n",
    "    sum = 0\n",
    "    for j in scores:\n",
    "        sum += j\n",
    "    score.append(sum/5)\n",
    "\n",
    "print(\"score: \",score)\n",
    "print(\"max score: \",max(score))"
   ]
  },
  {
   "cell_type": "code",
   "execution_count": 30,
   "metadata": {},
   "outputs": [
    {
     "data": {
      "image/png": "[encoded data removed]",
      "text/plain": [
       "<Figure size 432x288 with 1 Axes>"
      ]
     },
     "metadata": {
      "needs_background": "light"
     },
     "output_type": "display_data"
    }
   ],
   "source": [
    "plt.plot(time,score)\n",
    "plt.xlabel('Value')\n",
    "plt.ylabel('Cross-Validated Accuracy')\n",
    "plt.show()"
   ]
  },
  {
   "cell_type": "markdown",
   "metadata": {},
   "source": [
    "# 最好的模型與參數組合"
   ]
  },
  {
   "cell_type": "code",
   "execution_count": 51,
   "metadata": {},
   "outputs": [
    {
     "name": "stdout",
     "output_type": "stream",
     "text": [
      "[0.725     0.7625    0.8125    0.775     0.7721519]\n",
      "0.7694303797468354\n"
     ]
    }
   ],
   "source": [
    "forest = ensemble.RandomForestClassifier(n_estimators = 270) #參數設為最好的\n",
    "forest_fit = forest.fit(train_X, train_y)\n",
    "# 預測\n",
    "test_y_predicted = forest.predict(test_X)\n",
    "# 績效\n",
    "scores = cross_val_score(forest,X,y,cv=5,scoring='accuracy')\n",
    "print(scores)\n",
    "sum = 0\n",
    "for i in scores:\n",
    "    sum+=i\n",
    "print(sum/5)"
   ]
  },
  {
   "cell_type": "code",
   "execution_count": 52,
   "metadata": {},
   "outputs": [
    {
     "name": "stdout",
     "output_type": "stream",
     "text": [
      "0.75\n"
     ]
    }
   ],
   "source": [
    "accuracy = metrics.accuracy_score(test_y, test_y_predicted)\n",
    "print(accuracy)"
   ]
  },
  {
   "cell_type": "markdown",
   "metadata": {},
   "source": [
    "# 測試資料集前處理與預測"
   ]
  },
  {
   "cell_type": "code",
   "execution_count": 39,
   "metadata": {},
   "outputs": [],
   "source": [
    "df_test = df_test.drop(['CELL_LINE_NAME'], axis=1)\n",
    "\n",
    "# 過濾掉我們只需要的欄位\n",
    "test_features = df_test.columns\n",
    "df_test_ = df_test.drop(test_features.difference(set(relevant_features.index)),axis=1)\n",
    "\n",
    "# 標準化資料\n",
    "df_ = df_test_\n",
    "normalized_df=(df_ - df_.mean())/df_.std()\n",
    "\n",
    "# 預測\n",
    "test_y_predicted = forest.predict(normalized_df)"
   ]
  },
  {
   "cell_type": "code",
   "execution_count": 40,
   "metadata": {},
   "outputs": [
    {
     "data": {
      "text/plain": [
       "array([0, 0, 0, 0, 0, 0, 0, 0, 0, 0, 1, 0, 0, 0, 0, 0, 0, 0, 0, 0, 0, 1,\n",
       "       0, 0, 0, 0, 0, 0, 0, 0, 0, 0, 0, 0, 0, 0, 0, 0, 0, 0, 0, 0, 0, 0,\n",
       "       0, 0, 0, 1, 0, 0, 0, 0, 0, 0, 0, 0, 0, 0, 0, 1, 0, 0, 0, 1, 0, 0,\n",
       "       1, 0, 1, 1, 0, 0, 0, 0, 0, 0, 0, 1, 0, 0, 0, 1, 0, 0, 0, 1, 0, 0,\n",
       "       0, 0, 0, 1, 0, 0, 0, 0, 1, 0, 0, 0, 0, 0, 0, 0, 0, 0, 0, 0, 0, 1,\n",
       "       1, 1, 0, 0, 0, 0, 0, 0, 0, 0, 0, 0, 0, 0, 1, 0, 0, 0, 0, 0, 0, 0,\n",
       "       0, 0, 1, 0, 0, 0, 0, 0, 0, 0, 0, 0, 0, 0, 1, 0, 0, 0, 0, 0, 0, 0,\n",
       "       0, 0, 0, 0, 1, 0, 0, 0, 0, 0, 0, 0, 0, 0, 0, 0, 1, 0, 1, 1, 0, 0,\n",
       "       0, 0, 0, 0, 1, 1, 0, 0, 0, 0, 0, 0, 0, 0, 0, 1, 1, 1, 1, 0, 0, 0,\n",
       "       0, 0, 0, 0, 0, 0, 0, 0, 0, 0, 0, 0, 0, 0, 0, 0, 0, 0, 0, 0, 0, 0,\n",
       "       0, 0, 0, 0, 0, 1, 1, 0, 0, 0, 1, 0, 0, 0, 0, 0, 0, 0, 0, 0, 0, 0,\n",
       "       0, 0, 0, 0, 0, 1, 1, 0, 0, 1, 0, 0, 0, 1, 0, 0, 0, 0, 1, 1, 0, 0,\n",
       "       0, 0, 0, 0, 0, 0, 0, 0, 0, 0, 1, 0, 0, 0, 0, 0, 0, 0, 0, 0, 0, 0,\n",
       "       0, 0, 0, 1, 0, 0, 1, 0, 0, 0, 1, 0, 0, 0, 0, 0, 0, 0, 0, 0, 0, 0,\n",
       "       0, 0, 0, 1, 0, 0, 0, 0, 0, 0, 0, 0, 0, 0, 0, 1, 0, 0, 1, 0, 0, 0,\n",
       "       1, 1, 0, 0, 0, 0, 0, 0, 0, 0, 1, 1, 0, 0, 1, 0, 0, 0, 1, 0, 1, 0,\n",
       "       0, 1, 0, 0, 0, 0, 0, 0, 0, 0, 1, 1, 1, 1, 1, 1, 0, 0, 0, 0, 1, 0,\n",
       "       0, 0, 0, 0, 0, 0, 0, 0, 0, 0, 0, 0, 1, 0, 0, 0, 0, 0, 0, 0, 0, 0,\n",
       "       0, 0, 1, 0, 0, 0, 0, 0, 0, 0, 0, 0, 0, 1, 1, 0, 0, 0, 0, 0, 0, 0,\n",
       "       0, 0, 0, 1, 0, 0, 0, 0, 0, 0, 0, 0, 0, 0, 0, 0, 0, 0, 0, 0, 0, 0,\n",
       "       0, 0, 0, 0, 0, 1, 0, 0, 1, 1, 0, 0, 0, 1, 0, 0, 0, 0, 0, 1, 0, 0,\n",
       "       0, 0, 0, 0, 0, 0, 0])"
      ]
     },
     "execution_count": 40,
     "metadata": {},
     "output_type": "execute_result"
    }
   ],
   "source": [
    "test_y_predicted"
   ]
  },
  {
   "cell_type": "code",
   "execution_count": 41,
   "metadata": {},
   "outputs": [
    {
     "data": {
      "text/html": [
       "<div>\n",
       "<style scoped>\n",
       "    .dataframe tbody tr th:only-of-type {\n",
       "        vertical-align: middle;\n",
       "    }\n",
       "\n",
       "    .dataframe tbody tr th {\n",
       "        vertical-align: top;\n",
       "    }\n",
       "\n",
       "    .dataframe thead th {\n",
       "        text-align: right;\n",
       "    }\n",
       "</style>\n",
       "<table border=\"1\" class=\"dataframe\">\n",
       "  <thead>\n",
       "    <tr style=\"text-align: right;\">\n",
       "      <th></th>\n",
       "      <th>ans</th>\n",
       "    </tr>\n",
       "  </thead>\n",
       "  <tbody>\n",
       "    <tr>\n",
       "      <td>0</td>\n",
       "      <td>0</td>\n",
       "    </tr>\n",
       "    <tr>\n",
       "      <td>1</td>\n",
       "      <td>0</td>\n",
       "    </tr>\n",
       "    <tr>\n",
       "      <td>2</td>\n",
       "      <td>0</td>\n",
       "    </tr>\n",
       "    <tr>\n",
       "      <td>3</td>\n",
       "      <td>0</td>\n",
       "    </tr>\n",
       "    <tr>\n",
       "      <td>4</td>\n",
       "      <td>0</td>\n",
       "    </tr>\n",
       "    <tr>\n",
       "      <td>...</td>\n",
       "      <td>...</td>\n",
       "    </tr>\n",
       "    <tr>\n",
       "      <td>464</td>\n",
       "      <td>0</td>\n",
       "    </tr>\n",
       "    <tr>\n",
       "      <td>465</td>\n",
       "      <td>0</td>\n",
       "    </tr>\n",
       "    <tr>\n",
       "      <td>466</td>\n",
       "      <td>0</td>\n",
       "    </tr>\n",
       "    <tr>\n",
       "      <td>467</td>\n",
       "      <td>0</td>\n",
       "    </tr>\n",
       "    <tr>\n",
       "      <td>468</td>\n",
       "      <td>0</td>\n",
       "    </tr>\n",
       "  </tbody>\n",
       "</table>\n",
       "<p>469 rows × 1 columns</p>\n",
       "</div>"
      ],
      "text/plain": [
       "     ans\n",
       "0      0\n",
       "1      0\n",
       "2      0\n",
       "3      0\n",
       "4      0\n",
       "..   ...\n",
       "464    0\n",
       "465    0\n",
       "466    0\n",
       "467    0\n",
       "468    0\n",
       "\n",
       "[469 rows x 1 columns]"
      ]
     },
     "execution_count": 41,
     "metadata": {},
     "output_type": "execute_result"
    }
   ],
   "source": [
    "data = {'ans':test_y_predicted}\n",
    "ans_df = pd.DataFrame(data)\n",
    "ans_df"
   ]
  },
  {
   "cell_type": "code",
   "execution_count": 46,
   "metadata": {},
   "outputs": [
    {
     "data": {
      "text/html": [
       "<div>\n",
       "<style scoped>\n",
       "    .dataframe tbody tr th:only-of-type {\n",
       "        vertical-align: middle;\n",
       "    }\n",
       "\n",
       "    .dataframe tbody tr th {\n",
       "        vertical-align: top;\n",
       "    }\n",
       "\n",
       "    .dataframe thead th {\n",
       "        text-align: right;\n",
       "    }\n",
       "</style>\n",
       "<table border=\"1\" class=\"dataframe\">\n",
       "  <thead>\n",
       "    <tr style=\"text-align: right;\">\n",
       "      <th></th>\n",
       "      <th>ans</th>\n",
       "    </tr>\n",
       "  </thead>\n",
       "  <tbody>\n",
       "    <tr>\n",
       "      <td>0</td>\n",
       "      <td>S</td>\n",
       "    </tr>\n",
       "    <tr>\n",
       "      <td>1</td>\n",
       "      <td>S</td>\n",
       "    </tr>\n",
       "    <tr>\n",
       "      <td>2</td>\n",
       "      <td>S</td>\n",
       "    </tr>\n",
       "    <tr>\n",
       "      <td>3</td>\n",
       "      <td>S</td>\n",
       "    </tr>\n",
       "    <tr>\n",
       "      <td>4</td>\n",
       "      <td>S</td>\n",
       "    </tr>\n",
       "    <tr>\n",
       "      <td>...</td>\n",
       "      <td>...</td>\n",
       "    </tr>\n",
       "    <tr>\n",
       "      <td>464</td>\n",
       "      <td>S</td>\n",
       "    </tr>\n",
       "    <tr>\n",
       "      <td>465</td>\n",
       "      <td>S</td>\n",
       "    </tr>\n",
       "    <tr>\n",
       "      <td>466</td>\n",
       "      <td>S</td>\n",
       "    </tr>\n",
       "    <tr>\n",
       "      <td>467</td>\n",
       "      <td>S</td>\n",
       "    </tr>\n",
       "    <tr>\n",
       "      <td>468</td>\n",
       "      <td>S</td>\n",
       "    </tr>\n",
       "  </tbody>\n",
       "</table>\n",
       "<p>469 rows × 1 columns</p>\n",
       "</div>"
      ],
      "text/plain": [
       "    ans\n",
       "0     S\n",
       "1     S\n",
       "2     S\n",
       "3     S\n",
       "4     S\n",
       "..   ..\n",
       "464   S\n",
       "465   S\n",
       "466   S\n",
       "467   S\n",
       "468   S\n",
       "\n",
       "[469 rows x 1 columns]"
      ]
     },
     "execution_count": 46,
     "metadata": {},
     "output_type": "execute_result"
    }
   ],
   "source": [
    "ans_df = ans_df.replace(0, \"S\")\n",
    "ans_df = ans_df.replace(1, \"R\")\n",
    "ans_df"
   ]
  },
  {
   "cell_type": "code",
   "execution_count": 49,
   "metadata": {},
   "outputs": [],
   "source": [
    "ans_df.to_csv(\"ans.csv\")"
   ]
  },
  {
   "cell_type": "code",
   "execution_count": null,
   "metadata": {},
   "outputs": [],
   "source": []
  }
 ],
 "metadata": {
  "interpreter": {
   "hash": "40d3a090f54c6569ab1632332b64b2c03c39dcf918b08424e98f38b5ae0af88f"
  },
  "kernelspec": {
   "display_name": "Python 3.7.4 64-bit ('base': conda)",
   "language": "python",
   "name": "python3"
  },
  "language_info": {
   "codemirror_mode": {
    "name": "ipython",
    "version": 3
   },
   "file_extension": ".py",
   "mimetype": "text/x-python",
   "name": "python",
   "nbconvert_exporter": "python",
   "pygments_lexer": "ipython3",
   "version": "3.7.4"
  },
  "orig_nbformat": 4
 },
 "nbformat": 4,
 "nbformat_minor": 2
}
